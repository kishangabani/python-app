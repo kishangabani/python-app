{
 "cells": [
  {
   "cell_type": "code",
   "execution_count": 1,
   "metadata": {},
   "outputs": [
    {
     "data": {
      "text/plain": [
       "'C:\\\\Users\\\\kisha\\\\Desktop\\\\test-python'"
      ]
     },
     "execution_count": 1,
     "metadata": {},
     "output_type": "execute_result"
    }
   ],
   "source": [
    "pwd"
   ]
  },
  {
   "cell_type": "code",
   "execution_count": 2,
   "metadata": {
    "collapsed": true
   },
   "outputs": [],
   "source": [
    "f = open('file2.py')"
   ]
  },
  {
   "cell_type": "code",
   "execution_count": 3,
   "metadata": {},
   "outputs": [
    {
     "data": {
      "text/plain": [
       "'\\'\\'\\'a,b=0,1\\nwhile b<=10:\\n    print(b,end=\\',\\')\\n    a,b=b,a+b\\n\\n\\nno=int(input(\"Enter no= \"))\\nif no>0:\\n    print(\"+ve\")\\nelif no<0:\\n    print(\"-ve\")\\nelse:\\n    print(\"0\")\\n\\n\\'\\'\\'\\n\\'\\'\\'\\nw=[\\'KIshan\\',\\'Jay\\',\\'Swaminarayan\\',\"1234567\"]\\nfor i in w:\\n    print(i,\"COUNT= \"+str(len(i))+\".\")\\nfor i in w[:]:\\n    if len(i)>6:\\n        w.insert(0,i)    \\n        print(i)\\n\\'\\'\\'\\n\\'\\'\\'\\nno=int(input(\"Enter no= \"))\\ni,j=0,0\\nfor i in range(2,no):\\n    for j in range(2,i):\\n        if i%j==0:\\n           break\\n    else:\\n        print(i)\\n\\'\\'\\'\\n#class myenptyclass(int):print(\"class\")\\n\\'\\'\\'\\ndef sqr(num):\\n    print(num*num)\\nsqr(4.444)\\nsqr(4.444)\\nsqr(645545647)\\n\\'\\'\\'\\n\\'\\'\\'\\ndef fibo(number):\\n    result=[]\\n    a,b=0,1\\n    for i in range(0,number):\\n        result.append(a)\\n        #print(a, end=\\' \\')\\n        a,b=b,a+b\\n    return result\\nno=int(input(\"Enter no= \"))\\nprint(fibo(no))\\n\\'\\'\\'\\n'"
      ]
     },
     "execution_count": 3,
     "metadata": {},
     "output_type": "execute_result"
    }
   ],
   "source": [
    "f.read()"
   ]
  },
  {
   "cell_type": "code",
   "execution_count": 4,
   "metadata": {},
   "outputs": [
    {
     "data": {
      "text/plain": [
       "''"
      ]
     },
     "execution_count": 4,
     "metadata": {},
     "output_type": "execute_result"
    }
   ],
   "source": [
    "f.read()"
   ]
  },
  {
   "cell_type": "code",
   "execution_count": 6,
   "metadata": {},
   "outputs": [
    {
     "data": {
      "text/plain": [
       "0"
      ]
     },
     "execution_count": 6,
     "metadata": {},
     "output_type": "execute_result"
    }
   ],
   "source": [
    "f.seek(0)"
   ]
  },
  {
   "cell_type": "code",
   "execution_count": 7,
   "metadata": {},
   "outputs": [
    {
     "data": {
      "text/plain": [
       "'\\'\\'\\'a,b=0,1\\nwhile b<=10:\\n    print(b,end=\\',\\')\\n    a,b=b,a+b\\n\\n\\nno=int(input(\"Enter no= \"))\\nif no>0:\\n    print(\"+ve\")\\nelif no<0:\\n    print(\"-ve\")\\nelse:\\n    print(\"0\")\\n\\n\\'\\'\\'\\n\\'\\'\\'\\nw=[\\'KIshan\\',\\'Jay\\',\\'Swaminarayan\\',\"1234567\"]\\nfor i in w:\\n    print(i,\"COUNT= \"+str(len(i))+\".\")\\nfor i in w[:]:\\n    if len(i)>6:\\n        w.insert(0,i)    \\n        print(i)\\n\\'\\'\\'\\n\\'\\'\\'\\nno=int(input(\"Enter no= \"))\\ni,j=0,0\\nfor i in range(2,no):\\n    for j in range(2,i):\\n        if i%j==0:\\n           break\\n    else:\\n        print(i)\\n\\'\\'\\'\\n#class myenptyclass(int):print(\"class\")\\n\\'\\'\\'\\ndef sqr(num):\\n    print(num*num)\\nsqr(4.444)\\nsqr(4.444)\\nsqr(645545647)\\n\\'\\'\\'\\n\\'\\'\\'\\ndef fibo(number):\\n    result=[]\\n    a,b=0,1\\n    for i in range(0,number):\\n        result.append(a)\\n        #print(a, end=\\' \\')\\n        a,b=b,a+b\\n    return result\\nno=int(input(\"Enter no= \"))\\nprint(fibo(no))\\n\\'\\'\\'\\n'"
      ]
     },
     "execution_count": 7,
     "metadata": {},
     "output_type": "execute_result"
    }
   ],
   "source": [
    "f.read()"
   ]
  },
  {
   "cell_type": "code",
   "execution_count": 9,
   "metadata": {},
   "outputs": [
    {
     "data": {
      "text/plain": [
       "0"
      ]
     },
     "execution_count": 9,
     "metadata": {},
     "output_type": "execute_result"
    }
   ],
   "source": [
    "f.seek(0)"
   ]
  },
  {
   "cell_type": "code",
   "execution_count": 10,
   "metadata": {},
   "outputs": [
    {
     "data": {
      "text/plain": [
       "[\"'''a,b=0,1\\n\",\n",
       " 'while b<=10:\\n',\n",
       " \"    print(b,end=',')\\n\",\n",
       " '    a,b=b,a+b\\n',\n",
       " '\\n',\n",
       " '\\n',\n",
       " 'no=int(input(\"Enter no= \"))\\n',\n",
       " 'if no>0:\\n',\n",
       " '    print(\"+ve\")\\n',\n",
       " 'elif no<0:\\n',\n",
       " '    print(\"-ve\")\\n',\n",
       " 'else:\\n',\n",
       " '    print(\"0\")\\n',\n",
       " '\\n',\n",
       " \"'''\\n\",\n",
       " \"'''\\n\",\n",
       " 'w=[\\'KIshan\\',\\'Jay\\',\\'Swaminarayan\\',\"1234567\"]\\n',\n",
       " 'for i in w:\\n',\n",
       " '    print(i,\"COUNT= \"+str(len(i))+\".\")\\n',\n",
       " 'for i in w[:]:\\n',\n",
       " '    if len(i)>6:\\n',\n",
       " '        w.insert(0,i)    \\n',\n",
       " '        print(i)\\n',\n",
       " \"'''\\n\",\n",
       " \"'''\\n\",\n",
       " 'no=int(input(\"Enter no= \"))\\n',\n",
       " 'i,j=0,0\\n',\n",
       " 'for i in range(2,no):\\n',\n",
       " '    for j in range(2,i):\\n',\n",
       " '        if i%j==0:\\n',\n",
       " '           break\\n',\n",
       " '    else:\\n',\n",
       " '        print(i)\\n',\n",
       " \"'''\\n\",\n",
       " '#class myenptyclass(int):print(\"class\")\\n',\n",
       " \"'''\\n\",\n",
       " 'def sqr(num):\\n',\n",
       " '    print(num*num)\\n',\n",
       " 'sqr(4.444)\\n',\n",
       " 'sqr(4.444)\\n',\n",
       " 'sqr(645545647)\\n',\n",
       " \"'''\\n\",\n",
       " \"'''\\n\",\n",
       " 'def fibo(number):\\n',\n",
       " '    result=[]\\n',\n",
       " '    a,b=0,1\\n',\n",
       " '    for i in range(0,number):\\n',\n",
       " '        result.append(a)\\n',\n",
       " \"        #print(a, end=' ')\\n\",\n",
       " '        a,b=b,a+b\\n',\n",
       " '    return result\\n',\n",
       " 'no=int(input(\"Enter no= \"))\\n',\n",
       " 'print(fibo(no))\\n',\n",
       " \"'''\\n\"]"
      ]
     },
     "execution_count": 10,
     "metadata": {},
     "output_type": "execute_result"
    }
   ],
   "source": [
    "f.readlines()"
   ]
  },
  {
   "cell_type": "code",
   "execution_count": 11,
   "metadata": {},
   "outputs": [
    {
     "name": "stdout",
     "output_type": "stream",
     "text": [
      "Writing newtext.txt\n"
     ]
    }
   ],
   "source": [
    "%%writefile newtext.txt\n",
    "First Line\n",
    "Second Line\n",
    "GITHUB"
   ]
  },
  {
   "cell_type": "code",
   "execution_count": 14,
   "metadata": {},
   "outputs": [
    {
     "name": "stdout",
     "output_type": "stream",
     "text": [
      "First Line\n",
      "\n",
      "Second Line\n",
      "\n",
      "GITHUB\n"
     ]
    }
   ],
   "source": [
    "for word in open('newtext.txt'):\n",
    "    print (word)"
   ]
  },
  {
   "cell_type": "code",
   "execution_count": null,
   "metadata": {
    "collapsed": true
   },
   "outputs": [],
   "source": []
  }
 ],
 "metadata": {
  "kernelspec": {
   "display_name": "Python 3",
   "language": "python",
   "name": "python3"
  },
  "language_info": {
   "codemirror_mode": {
    "name": "ipython",
    "version": 3
   },
   "file_extension": ".py",
   "mimetype": "text/x-python",
   "name": "python",
   "nbconvert_exporter": "python",
   "pygments_lexer": "ipython3",
   "version": "3.6.2"
  }
 },
 "nbformat": 4,
 "nbformat_minor": 2
}
